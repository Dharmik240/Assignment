{
 "cells": [
  {
   "cell_type": "code",
   "execution_count": null,
   "id": "846478a5-8835-4519-bed7-15f01d17ee0e",
   "metadata": {},
   "outputs": [],
   "source": [
    "#Q-4 Write a Python program to check if a number is positive, negative or zero."
   ]
  },
  {
   "cell_type": "code",
   "execution_count": 4,
   "id": "06f00dc9-85a1-42a3-8d19-6cb27e42a444",
   "metadata": {},
   "outputs": [
    {
     "name": "stdin",
     "output_type": "stream",
     "text": [
      "Enter Number 1\n"
     ]
    },
    {
     "name": "stdout",
     "output_type": "stream",
     "text": [
      "1 is Positive\n"
     ]
    }
   ],
   "source": [
    "n = int(input(\"Enter Number\")) \n",
    "\n",
    "if(n>0):\n",
    "    print(f\"{n} is Positive\")\n",
    "elif(n<0):\n",
    "    print(f\"{n} is Negative\")\n",
    "else:\n",
    "    print(\"Number is zero\")"
   ]
  },
  {
   "cell_type": "code",
   "execution_count": 5,
   "id": "00ce7f6e-8226-49c9-a063-14010470176f",
   "metadata": {},
   "outputs": [],
   "source": [
    "#Q-5 Write a Python program to get the Factorial number of given numbers. \n"
   ]
  },
  {
   "cell_type": "code",
   "execution_count": 37,
   "id": "e60a7af0-73da-47c1-82e3-8bc118e74558",
   "metadata": {},
   "outputs": [
    {
     "name": "stdin",
     "output_type": "stream",
     "text": [
      "Enter Number 5\n"
     ]
    },
    {
     "name": "stdout",
     "output_type": "stream",
     "text": [
      "120\n"
     ]
    }
   ],
   "source": [
    "n = int(input(\"Enter Number\"))\n",
    "x = 1\n",
    "if (n == 0):\n",
    "     print(0)\n",
    "else:\n",
    "    for i in range(1,n+1):\n",
    "        x *= i\n",
    "        if i == n:\n",
    "            print(x)\n"
   ]
  },
  {
   "cell_type": "code",
   "execution_count": 5,
   "id": "c13c21ed-b96e-49d9-bc4e-807b28d94e18",
   "metadata": {},
   "outputs": [],
   "source": [
    "#Q-6 Write a Python program to get the Fibonacci series of given range. \n",
    "\n",
    "def fibonacci(n):\n",
    "    if n <= 1:\n",
    "        return n\n",
    "    return fibonacci(n-1) + fibonacci(n-2)\n",
    "    "
   ]
  },
  {
   "cell_type": "code",
   "execution_count": 6,
   "id": "ca50a2f0-398b-4c0c-9806-388c31fe061f",
   "metadata": {},
   "outputs": [
    {
     "name": "stdout",
     "output_type": "stream",
     "text": [
      "0 1 1 2 3 5 8 "
     ]
    }
   ],
   "source": [
    "for i in range(7):\n",
    "    print(fibonacci(i),end=\" \")"
   ]
  },
  {
   "cell_type": "code",
   "execution_count": 7,
   "id": "99ef8261-1e52-4f3a-bf94-2f3240a23815",
   "metadata": {},
   "outputs": [],
   "source": [
    "#Q-9 Write python program that swap two number with temp variable and without temp variable.\n",
    "#With Temp\n",
    "def swap(a,b):\n",
    "    print(\"A is =\",a)\n",
    "    print(\"B is =\",b)\n",
    "    temp = a\n",
    "    a = b\n",
    "    b = temp\n",
    "    print(\"After Swapping A is =\",a)\n",
    "    print(\"After Swapping B is =\",b)"
   ]
  },
  {
   "cell_type": "code",
   "execution_count": 8,
   "id": "aeca2e58-cf58-4961-b1f6-27361b734bca",
   "metadata": {},
   "outputs": [
    {
     "name": "stdout",
     "output_type": "stream",
     "text": [
      "A is = 5\n",
      "B is = 3\n",
      "After Swapping A is = 3\n",
      "After Swapping B is = 5\n"
     ]
    }
   ],
   "source": [
    "swap(5,3)"
   ]
  },
  {
   "cell_type": "code",
   "execution_count": 38,
   "id": "8c74b891-71e3-49c8-a066-995c1f7f1072",
   "metadata": {},
   "outputs": [
    {
     "name": "stdin",
     "output_type": "stream",
     "text": [
      "Enter Number 5\n",
      "Enter Number 3\n"
     ]
    },
    {
     "name": "stdout",
     "output_type": "stream",
     "text": [
      "A is = 5\n",
      "B is = 3\n",
      "After Swapping A is = 3\n",
      "After Swapping B is = 5\n"
     ]
    }
   ],
   "source": [
    "a = int(input(\"Enter Number\"))\n",
    "b = int(input(\"Enter Number\"))\n",
    "print(\"A is =\",a)\n",
    "print(\"B is =\",b)\n",
    "a,b = b,a\n",
    "print(\"After Swapping A is =\",a)\n",
    "print(\"After Swapping B is =\",b)"
   ]
  },
  {
   "cell_type": "code",
   "execution_count": 18,
   "id": "a988150b-4581-4446-bf16-f2183f35826f",
   "metadata": {},
   "outputs": [
    {
     "name": "stdin",
     "output_type": "stream",
     "text": [
      "Enter the number 9\n"
     ]
    },
    {
     "name": "stdout",
     "output_type": "stream",
     "text": [
      "9 is an Odd number\n"
     ]
    }
   ],
   "source": [
    "#Q-10 Write a Python program to find whether a given number is even or odd, print out an appropriate message to the user. \n",
    "\n",
    "n = int(input(\"Enter the number\"))\n",
    "if(n%2 == 0):\n",
    "    print(f\"{n} is an Even number\")\n",
    "else:\n",
    "    print(f\"{n} is an Odd number\")"
   ]
  },
  {
   "cell_type": "code",
   "execution_count": 28,
   "id": "615398e8-8b2e-4129-8943-640a37976f10",
   "metadata": {},
   "outputs": [
    {
     "name": "stdin",
     "output_type": "stream",
     "text": [
      "Enter Only one letter i\n"
     ]
    },
    {
     "name": "stdout",
     "output_type": "stream",
     "text": [
      "i is an vowel \n"
     ]
    }
   ],
   "source": [
    "#Q-11 Write a Python program to test whether a passed letter is a vowel or not. \n",
    "\n",
    "c = input(\"Enter Only one letter\")\n",
    "a = \"aeiouAEIOU\"\n",
    "\n",
    "if c in a:\n",
    "    print(f\"{c} is an vowel \")\n",
    "else:\n",
    "    print(f\"{c} is a consonent\")"
   ]
  },
  {
   "cell_type": "code",
   "execution_count": 32,
   "id": "9a764c99-0ef3-48c4-8fc0-dd216c93b077",
   "metadata": {},
   "outputs": [
    {
     "name": "stdin",
     "output_type": "stream",
     "text": [
      "Enter number 1 :-  33\n",
      "Enter number 2 :-  99\n",
      "Enter number 3 :-  33\n"
     ]
    },
    {
     "name": "stdout",
     "output_type": "stream",
     "text": [
      "0\n"
     ]
    }
   ],
   "source": [
    "#Q-12 Write a Python program to sum of three given integers. However, if two values are equal sum will be zero. \n",
    "a = int(input(\"Enter number 1 :- \"))\n",
    "b = int(input(\"Enter number 2 :- \"))\n",
    "c = int(input(\"Enter number 3 :- \"))\n",
    "s = 0\n",
    "if ((a == b) or (b == c) or (a==c)):\n",
    "    print(s)\n",
    "else:\n",
    "    s = a + b + c\n",
    "    print(s)"
   ]
  },
  {
   "cell_type": "code",
   "execution_count": 50,
   "id": "2d6cf1f4-3aa0-42e8-9125-5fcce832c7e8",
   "metadata": {},
   "outputs": [
    {
     "name": "stdin",
     "output_type": "stream",
     "text": [
      "Enter the Number1 :-  3\n",
      "Enter the Number2 :-  2\n"
     ]
    },
    {
     "name": "stdout",
     "output_type": "stream",
     "text": [
      "True\n"
     ]
    }
   ],
   "source": [
    "#Q-13 Write a Python program that will return true if the two given integer values are equal or their sum or difference is 5.\n",
    "a = int(input(\"Enter the Number1 :- \"))\n",
    "b = int(input(\"Enter the Number2 :- \"))\n",
    "if((a==b) or (a-b == 5) or (a+b == 5)):\n",
    "    print(\"True\")\n",
    "else:\n",
    "    print(\"False\")"
   ]
  },
  {
   "cell_type": "code",
   "execution_count": 3,
   "id": "f3d36ead-6cb9-4468-8060-cf7415532125",
   "metadata": {},
   "outputs": [
    {
     "name": "stdin",
     "output_type": "stream",
     "text": [
      "Enter number 5\n"
     ]
    },
    {
     "name": "stdout",
     "output_type": "stream",
     "text": [
      "15\n"
     ]
    }
   ],
   "source": [
    "#Q-14 Write a python program to sum of the first n positive integers.\n",
    "n = int(input(\"Enter number\"))\n",
    "a = 0\n",
    "for i in range(1,n+1):\n",
    "    a += i\n",
    "print(a)"
   ]
  },
  {
   "cell_type": "code",
   "execution_count": 2,
   "id": "a0d5fb6c-90eb-410c-892d-e9a0a6d813f4",
   "metadata": {},
   "outputs": [
    {
     "name": "stdin",
     "output_type": "stream",
     "text": [
      "Enter the string: mehul\n"
     ]
    },
    {
     "name": "stdout",
     "output_type": "stream",
     "text": [
      "5\n"
     ]
    }
   ],
   "source": [
    "#Q-15 Write a Python program to calculate the length of a string. \n",
    "word = input(\"Enter the string:\")\n",
    "print(len(word))\n",
    "    "
   ]
  },
  {
   "cell_type": "code",
   "execution_count": 10,
   "id": "3c5fe37e-6127-45f0-8183-24376e73e9fa",
   "metadata": {},
   "outputs": [
    {
     "name": "stdin",
     "output_type": "stream",
     "text": [
      "Enter the String:-  wedd\n",
      "Enter a letter d\n"
     ]
    },
    {
     "name": "stdout",
     "output_type": "stream",
     "text": [
      "2\n"
     ]
    }
   ],
   "source": [
    "#Q-16 Write a Python program to count the number of characters (character frequency) in a string \n",
    "s = input(\"Enter the String:- \")\n",
    "print(s.count(input(\"Enter a letter\")))\n",
    "\n",
    "s = input(\"Enter the String:- \")\n",
    "ss = input(\"Enter Character:-\")\n",
    "count = 0\n",
    "for i in s:\n",
    "    if i == ss:\n",
    "        count += 1\n",
    "\n",
    "print(count)\n",
    "    "
   ]
  },
  {
   "cell_type": "code",
   "execution_count": 4,
   "id": "19c9055f-53b9-453f-b0e4-5b2efed2e899",
   "metadata": {},
   "outputs": [
    {
     "name": "stdin",
     "output_type": "stream",
     "text": [
      "Enter the String:-  aabbaa\n",
      "Enter a substring aa\n"
     ]
    },
    {
     "name": "stdout",
     "output_type": "stream",
     "text": [
      "2\n"
     ]
    }
   ],
   "source": [
    "#Q-18 Write a Python program to count occurrences of a substring in a string. \n",
    "\n",
    "s = input(\"Enter the String:- \")\n",
    "print(s.count(input(\"Enter a substring\")))\n",
    "\n",
    "# s = input(\"Enter the String:- \")\n",
    "# ss = input(\"Enter substring:-\")\n",
    "# count = 0\n",
    "# for i in range(len(s)):\n",
    "#     if ((s[i] + s[i-1]) == ss):\n",
    "#         count += 1\n",
    "# print(count)"
   ]
  },
  {
   "cell_type": "code",
   "execution_count": 5,
   "id": "4f0f0847-8d73-4f24-ad2e-7ab1ff4b23f0",
   "metadata": {},
   "outputs": [
    {
     "name": "stdin",
     "output_type": "stream",
     "text": [
      "Enter the String:-  my name is dharmik and my freid name is mehul and \n",
      "Enter a word name\n"
     ]
    },
    {
     "name": "stdout",
     "output_type": "stream",
     "text": [
      "2\n"
     ]
    }
   ],
   "source": [
    "#Q-19 Write a Python program to count the occurrences of each word in a  given sentence\n",
    "s = input(\"Enter the String:- \")\n",
    "print(s.count(input(\"Enter a word\")))"
   ]
  },
  {
   "cell_type": "code",
   "execution_count": 12,
   "id": "d84e9ff9-abb0-494b-8490-ababe5c2d2ba",
   "metadata": {},
   "outputs": [
    {
     "name": "stdin",
     "output_type": "stream",
     "text": [
      "Enter string 1:- abcd\n",
      "Enter String 2:- pqrs\n"
     ]
    },
    {
     "name": "stdout",
     "output_type": "stream",
     "text": [
      "pqcd  abrs\n"
     ]
    }
   ],
   "source": [
    "#Q-20 Write a Python program to get a single string from two given strings, separated by a space and swap the \n",
    "#     first two characters of each string. \n",
    "a = input (\"Enter string 1:-\")\n",
    "b = input (\"Enter String 2:-\")\n",
    "c = a\n",
    "a = a.replace(a[0],b[0])\n",
    "a = a.replace(a[1],b[1])\n",
    "b = b.replace(b[0],c[0])\n",
    "b = b.replace(b[1],c[1])\n",
    "# temp = a[0]\n",
    "# tem2 = a[1]\n",
    "# print(temp)\n",
    "\n",
    "print(a + \"  \" + b)\n"
   ]
  },
  {
   "cell_type": "code",
   "execution_count": 16,
   "id": "45f83f88-2740-4378-b337-4a060045df8e",
   "metadata": {},
   "outputs": [
    {
     "name": "stdin",
     "output_type": "stream",
     "text": [
      "Enter the string by\n"
     ]
    },
    {
     "name": "stdout",
     "output_type": "stream",
     "text": [
      "by\n"
     ]
    }
   ],
   "source": [
    "#Q-21 Write a Python program to add 'in' at the end of a given string (length should be at least 3).\n",
    "#     If the given string already ends with 'ing' then add 'ly' instead if the string length of the given string is less than 3, \n",
    "#     leave it unchanged.\n",
    "a = input(\"Enter the string\")\n",
    "if(len(a) >= 3):\n",
    "    if(a.endswith(\"ing\")):\n",
    "        print(a + \"ly\")\n",
    "    else:\n",
    "        print(a + \"in\")\n",
    "else:\n",
    "    print(a)"
   ]
  },
  {
   "cell_type": "code",
   "execution_count": 17,
   "id": "44517fe8-b40a-4e8c-abbf-290ea6a6e650",
   "metadata": {},
   "outputs": [],
   "source": [
    "#Q-22  Write a Python function to reverses a string if its length is a multiple of 4. \n",
    "def revifmul4(a):\n",
    "    if(len(a) % 4 == 0):\n",
    "        print(a[::-1])"
   ]
  },
  {
   "cell_type": "code",
   "execution_count": 18,
   "id": "43820b61-7973-4cc1-9848-2bb67940bde5",
   "metadata": {},
   "outputs": [
    {
     "name": "stdout",
     "output_type": "stream",
     "text": [
      "dcba\n"
     ]
    }
   ],
   "source": [
    "revifmul4(\"abcd\")"
   ]
  },
  {
   "cell_type": "code",
   "execution_count": 23,
   "id": "dfce22e0-1c83-426a-9435-439352ece8de",
   "metadata": {},
   "outputs": [
    {
     "name": "stdin",
     "output_type": "stream",
     "text": [
      "Enter the string p\n"
     ]
    },
    {
     "name": "stdout",
     "output_type": "stream",
     "text": [
      "Empty string\n"
     ]
    }
   ],
   "source": [
    "#Q-23  Write a Python program to get a string made of the first 2 and the last 2 chars from a given a string. \n",
    "#      If the string length is less than 2, return instead of the empty string. \n",
    "\n",
    "a = input(\"Enter the string\")\n",
    "if(len(a) < 2):\n",
    "    print(\"Empty string\")\n",
    "else:\n",
    "    p = a[0] + a[1]\n",
    "    q = a[-1] + a[-2]\n",
    "    print(p + q)"
   ]
  },
  {
   "cell_type": "code",
   "execution_count": 5,
   "id": "9606aaa8-fc83-46f6-ab7f-dcd4e705376d",
   "metadata": {},
   "outputs": [
    {
     "name": "stdout",
     "output_type": "stream",
     "text": [
      "abpqrscd\n"
     ]
    }
   ],
   "source": [
    "#Q-24 Write a Python function to insert a string in the middle of a string.\n",
    "import math\n",
    "def mid_string(a,b):\n",
    "    x = math.ceil(len(a)/2)\n",
    "    newstr = a[:x] + b +a[x:]\n",
    "    print(newstr)\n",
    "\n",
    "mid_string(\"abcd\",\"pqrs\")"
   ]
  },
  {
   "cell_type": "code",
   "execution_count": 7,
   "id": "4fcc6346-8a7f-4e6b-b07e-dc434bb9dae5",
   "metadata": {},
   "outputs": [
    {
     "data": {
      "text/plain": [
       "[5, 4, 2, 3, 1, 2]"
      ]
     },
     "execution_count": 7,
     "metadata": {},
     "output_type": "execute_result"
    }
   ],
   "source": [
    "#Q-25 What is List? How will you reverse a list?\n",
    "# List:-Ordered,Mutable sequence of time,allow duplicates\n",
    "l1 = [2,1,3,2,4,5]\n",
    "l1.reverse()\n",
    "l1"
   ]
  },
  {
   "cell_type": "code",
   "execution_count": 9,
   "id": "f6a43f98-2a0c-4151-baa5-b295245d6e1e",
   "metadata": {},
   "outputs": [
    {
     "data": {
      "text/plain": [
       "[2, 1, 3, 2, 4]"
      ]
     },
     "execution_count": 9,
     "metadata": {},
     "output_type": "execute_result"
    }
   ],
   "source": [
    "#Q-26  How will you remove last object from a list? \n",
    "l1 = [2,1,3,2,4,5]\n",
    "l1.pop(-1)\n",
    "l1"
   ]
  },
  {
   "cell_type": "code",
   "execution_count": 10,
   "id": "6d588ffc-1947-49b3-9b0e-f5993e58841a",
   "metadata": {},
   "outputs": [
    {
     "data": {
      "text/plain": [
       "25"
      ]
     },
     "execution_count": 10,
     "metadata": {},
     "output_type": "execute_result"
    }
   ],
   "source": [
    "#Q-27  Suppose list1 is [2, 33, 222, 14, and 25], what is list1 [-1]?  \n",
    "list1 = [2,33,222,14,25]\n",
    "list1[-1]"
   ]
  },
  {
   "cell_type": "code",
   "execution_count": 10,
   "id": "2233d8aa-79fc-4752-882e-ccc0098bb27b",
   "metadata": {},
   "outputs": [
    {
     "name": "stdout",
     "output_type": "stream",
     "text": [
      "Largest number in a list is =  100\n",
      "Smallest number in a list is =  2\n",
      "Sum of list is =  248\n"
     ]
    }
   ],
   "source": [
    "#Q-29 Write a Python function to get the largest number, smallest num  and sum of all from a list.\n",
    "import math\n",
    "\n",
    "li = [2,3,55,44,33,100,11]\n",
    "print(\"Largest number in a list is = \",max(li))\n",
    "print(\"Smallest number in a list is = \",min(li))\n",
    "print(\"Sum of list is = \",sum(li))\n"
   ]
  },
  {
   "cell_type": "code",
   "execution_count": 11,
   "id": "33272cdd-3b7c-4b27-96d9-a6abfd57035d",
   "metadata": {},
   "outputs": [
    {
     "name": "stdout",
     "output_type": "stream",
     "text": [
      "Both lists are same\n"
     ]
    }
   ],
   "source": [
    "#Q-30  How will you compare two lists?\n",
    "a = [1,2,3,4]\n",
    "b = [4,3,2,1]\n",
    "\n",
    "a.sort()\n",
    "b.sort()\n",
    "\n",
    "if a == b:\n",
    "    print(\"Both lists are same\")\n",
    "else:\n",
    "    print(\"Both list are not same\")\n",
    "\n"
   ]
  },
  {
   "cell_type": "code",
   "execution_count": 15,
   "id": "c87e383d-4bb4-45f3-91e1-79cd8e43bba6",
   "metadata": {},
   "outputs": [
    {
     "name": "stdout",
     "output_type": "stream",
     "text": [
      "2\n"
     ]
    }
   ],
   "source": [
    "#Q-31 Write a Python program to count the number of strings where the string  \n",
    "#     length is 2 or more and the first and last character are same from a given list \n",
    "#     of strings. \n",
    "\n",
    "li = [\"Dharmik\",\"Mehul\",\"A\",\"abca\",\"pqrp\"]\n",
    "count = 0 \n",
    "for i in li:\n",
    "    if (len(i) >= 2) and (i[0] == i[-1]):\n",
    "        count += 1\n",
    "print(count)    "
   ]
  },
  {
   "cell_type": "code",
   "execution_count": 22,
   "id": "87bb3409-d407-4193-9c81-394d7d5fa770",
   "metadata": {},
   "outputs": [
    {
     "name": "stdout",
     "output_type": "stream",
     "text": [
      "[1, 2, 3, 4, 5, 6, 7]\n"
     ]
    }
   ],
   "source": [
    "#Q-32  Write a Python program to remove duplicates from a list.\n",
    "li = [1,2,3,2,3,4,5,6,7]\n",
    "my_set = set()\n",
    "type(my_set)\n",
    "for i in li:\n",
    "    if i not in my_set:\n",
    "        my_set.add(i)\n",
    "newli = list(my_set)\n",
    "print(newli)"
   ]
  },
  {
   "cell_type": "code",
   "execution_count": 24,
   "id": "845742b5-e3a2-4a91-831e-bcc4eed48713",
   "metadata": {},
   "outputs": [
    {
     "name": "stdout",
     "output_type": "stream",
     "text": [
      "given list is empty\n"
     ]
    }
   ],
   "source": [
    "#Q-33 Write a Python program to check a list is empty or not. \n",
    "\n",
    "li = []\n",
    "if len(li) >= 1:\n",
    "    print(\"List has more than one element\")\n",
    "else:\n",
    "    print(\"given list is empty\")"
   ]
  },
  {
   "cell_type": "code",
   "execution_count": 31,
   "id": "27ebce9b-a05f-4096-9b38-61c1c0c4c261",
   "metadata": {},
   "outputs": [
    {
     "name": "stdout",
     "output_type": "stream",
     "text": [
      "True\n"
     ]
    }
   ],
   "source": [
    "#Q-34 Write a Python function that takes two lists and returns true if they \n",
    "#     have at least one common member. \n",
    "\n",
    "l1 = [1,2,3,4,5,6,7]\n",
    "l2 = [7,8,9,10,11]\n",
    "def common_fac(a,b):\n",
    "    for i in a:\n",
    "        if i in b:\n",
    "            print(\"True\")\n",
    "\n",
    "common_fac(l1,l2)"
   ]
  },
  {
   "cell_type": "code",
   "execution_count": 44,
   "id": "fe723139-d4a2-4198-ae47-1508bbcf4cb7",
   "metadata": {},
   "outputs": [
    {
     "name": "stdout",
     "output_type": "stream",
     "text": [
      "[1, 4, 9, 16, 25]\n",
      "[676, 729, 784, 841, 900]\n"
     ]
    }
   ],
   "source": [
    "#Q-35  Write a Python program to generate and print a list of first and last 5 \n",
    "#      elements where the values are square of numbers between 1 and 30. \n",
    "l1 = []\n",
    "for i in range(1,31):\n",
    "    l1.append(i**2)\n",
    "\n",
    "print(l1[:5])\n",
    "print(l1[-5:])"
   ]
  },
  {
   "cell_type": "code",
   "execution_count": 5,
   "id": "bbfb494a-5f05-4bec-bd67-290435193e2f",
   "metadata": {},
   "outputs": [
    {
     "name": "stdout",
     "output_type": "stream",
     "text": [
      "[1, 2, 3, 4, 5, 6, 7]\n"
     ]
    }
   ],
   "source": [
    "#Q-36 Write a Python function that takes a list and returns a new list with \n",
    "#      unique elements of the first list.\n",
    "\n",
    "li = [1,2,3,3,2,1,4,5,6,7,7,6]\n",
    "\n",
    "\n",
    "def unique(li):\n",
    "    l2 = []\n",
    "    for i in li:\n",
    "        if (i not in l2):\n",
    "            l2.append(i)\n",
    "    print(l2)\n",
    "\n",
    "unique(li);"
   ]
  },
  {
   "cell_type": "code",
   "execution_count": 7,
   "id": "720a8ced-0859-44bd-8997-ff12e94dd75b",
   "metadata": {},
   "outputs": [
    {
     "name": "stdout",
     "output_type": "stream",
     "text": [
      "abcd\n"
     ]
    }
   ],
   "source": [
    "#Q-37  Write a Python program to convert a list of characters into a string. \n",
    "li = [\"a\",\"b\",\"c\",\"d\"]\n",
    "new_str = \"\"\n",
    "for i in li:\n",
    "    new_str += i;\n",
    "\n",
    "print(new_str)"
   ]
  },
  {
   "cell_type": "code",
   "execution_count": 10,
   "id": "21f88652-84dd-40c2-bb6e-3a33135a30e4",
   "metadata": {},
   "outputs": [
    {
     "data": {
      "text/plain": [
       "5"
      ]
     },
     "execution_count": 10,
     "metadata": {},
     "output_type": "execute_result"
    }
   ],
   "source": [
    "#Q-38  Write a Python program to select an item randomly from a list. \n",
    "import random\n",
    "li = [1,2,3,4,5,\"a\",\"b\",\"c\",\"d\"]\n",
    "random.choice(li)"
   ]
  },
  {
   "cell_type": "code",
   "execution_count": 5,
   "id": "8ac63e47-f06e-4158-bc04-3ece6dfb79a4",
   "metadata": {},
   "outputs": [
    {
     "name": "stdout",
     "output_type": "stream",
     "text": [
      "2\n"
     ]
    }
   ],
   "source": [
    "#Q-39 Write a Python program to find the second smallest number in a list. \n",
    "li = [1,2,3,4,5,6,7]\n",
    "a = min(li)\n",
    "li.remove(a)\n",
    "print(min(li))\n",
    "        "
   ]
  },
  {
   "cell_type": "code",
   "execution_count": 14,
   "id": "9c1dc3f6-d4dd-4e7d-8edc-3a4045bdaeb2",
   "metadata": {},
   "outputs": [
    {
     "data": {
      "text/plain": [
       "[1, 2, 3, 4, 5]"
      ]
     },
     "execution_count": 14,
     "metadata": {},
     "output_type": "execute_result"
    }
   ],
   "source": [
    "#Q-40  Write a Python program to get unique values from a list \n",
    "li = [1,2,3,4,5,1,2,3,4,5]\n",
    "l2 = []\n",
    "for i in li:\n",
    "    if i not in l2:\n",
    "        l2.append(i)\n",
    "\n",
    "l2"
   ]
  },
  {
   "cell_type": "code",
   "execution_count": 13,
   "id": "09175138-dfd8-4ede-b03c-a8b03647f8ef",
   "metadata": {},
   "outputs": [
    {
     "name": "stdout",
     "output_type": "stream",
     "text": [
      "given list is subset\n"
     ]
    }
   ],
   "source": [
    "#Q-41 Write a Python program to check whether a list contains a sub list\n",
    "li = [1,2,3,4,5,6,7]\n",
    "l2 = [1,2,3,4]\n",
    "p = 0\n",
    "for i in l2:\n",
    "    if i in li:\n",
    "        pass\n",
    "    else:\n",
    "        p = 1\n",
    "\n",
    "if p == 1:\n",
    "    print(\"given list is not subset\")\n",
    "else:\n",
    "    print(\"given list is subset\")"
   ]
  },
  {
   "cell_type": "code",
   "execution_count": 41,
   "id": "26a81e5d-17d6-40d0-af1f-ad281a1c00f3",
   "metadata": {},
   "outputs": [
    {
     "name": "stdout",
     "output_type": "stream",
     "text": [
      "1\n",
      "2\n",
      "[3, 4, 5]\n"
     ]
    }
   ],
   "source": [
    "# Q-42  Write a Python program to split a list into different variables. \n",
    "li = [1,2,3,4,5]\n",
    "\n",
    "a,b,*rest = li\n",
    "\n",
    "print(a)\n",
    "print(b)\n",
    "print(rest)"
   ]
  },
  {
   "cell_type": "code",
   "execution_count": 37,
   "id": "8721f5a3-3ae4-46bd-b944-90e4b56dfcf7",
   "metadata": {},
   "outputs": [
    {
     "data": {
      "text/plain": [
       "(1, 2, 3, 4, 5)"
      ]
     },
     "execution_count": 37,
     "metadata": {},
     "output_type": "execute_result"
    }
   ],
   "source": [
    "#Q-44 Write a Python program to create a tuple with different data types. \n",
    "l1 = [1,2,3,4,5]\n",
    "tp = tuple(l1)\n",
    "tp"
   ]
  },
  {
   "cell_type": "code",
   "execution_count": 42,
   "id": "2b946bb6-fca0-4e72-ae4e-9193453dadc6",
   "metadata": {},
   "outputs": [
    {
     "name": "stdout",
     "output_type": "stream",
     "text": [
      "[(1, 2, 3)] [(4, 5, 6)] [(7, 8, 9)]\n"
     ]
    }
   ],
   "source": [
    "#Q-45   Write a Python program to unzip a list of tuples into individual lists.\n",
    "li = [(1,2,3),(4,5,6),(7,8,9)]\n",
    "l1 = []\n",
    "l2 = []\n",
    "l3 = []\n",
    "\n",
    "l1.append(li[0])\n",
    "l2.append(li[1])\n",
    "l3.append(li[2])\n",
    "\n",
    "print(l1,l2,l3)\n"
   ]
  },
  {
   "cell_type": "code",
   "execution_count": 46,
   "id": "7e1f55c1-1a6a-44da-bdac-b8965fe83090",
   "metadata": {},
   "outputs": [
    {
     "data": {
      "text/plain": [
       "{1: (1, 2, 3), 2: (4, 5, 6), 3: (7, 8, 9)}"
      ]
     },
     "execution_count": 46,
     "metadata": {},
     "output_type": "execute_result"
    }
   ],
   "source": [
    "# Q-46  Write a Python program to convert a list of tuples into a dictionary.\n",
    "li = [(1,2,3),(4,5,6),(7,8,9)]\n",
    "mydict = {}\n",
    "for i in range(len(li)):\n",
    "    mydict.update({i+1 : li[i]})\n",
    "\n",
    "mydict"
   ]
  },
  {
   "cell_type": "code",
   "execution_count": 13,
   "id": "48c12074-71d1-485e-92ae-534c22a33af4",
   "metadata": {},
   "outputs": [
    {
     "name": "stdout",
     "output_type": "stream",
     "text": [
      "{(1, 2): 3, (3, 4): 7, (5, 6): 11}\n"
     ]
    }
   ],
   "source": [
    "#Q-47  How will you create a dictionary using tuples in python? \n",
    "my_dict = {\n",
    "    (1, 2): 3,\n",
    "    (3, 4): 7,\n",
    "    (5, 6): 11\n",
    "}\n",
    "print(my_dict)"
   ]
  },
  {
   "cell_type": "code",
   "execution_count": 55,
   "id": "206a70b4-b4de-42e7-bacc-06d9e7ea7f3c",
   "metadata": {},
   "outputs": [
    {
     "name": "stdout",
     "output_type": "stream",
     "text": [
      "[('c', 40), ('a', 80), ('b', 100)]\n",
      "[('b', 100), ('a', 80), ('c', 40)]\n"
     ]
    }
   ],
   "source": [
    "# Q-48 Write a Python script to sort (ascending and descending) a dictionary by value.\n",
    "dict1 = {\"a\" : 80, \"b\" : 100,\"c\" : 40}\n",
    "list1 = list(dict1.values())\n",
    "list1.sort()\n",
    "\n",
    "sorted_items = sorted(dict1.items(), key=lambda item: item[1])\n",
    "print(sorted_items)\n",
    "\n",
    "Desc = sorted(dict1.items(), key=lambda item: item[1],reverse=True )\n",
    "print(Desc)"
   ]
  },
  {
   "cell_type": "code",
   "execution_count": 11,
   "id": "f4b35b4c-3cd4-4d8c-a132-c56a3829a310",
   "metadata": {},
   "outputs": [
    {
     "data": {
      "text/plain": [
       "{1: 'Bob', 2: 'Smith', 3: 'Alice', 4: 'Johnson'}"
      ]
     },
     "execution_count": 11,
     "metadata": {},
     "output_type": "execute_result"
    }
   ],
   "source": [
    "# Q-49 Write a Python script to concatenate following dictionaries to create a new one. \n",
    "dict1 = {1 : \"Bob\", 2 : \"Smith\"}\n",
    "dict2 = {3 : \"Alice\" , 4 : \"Johnson\"}\n",
    "dict3 = {}\n",
    "\n",
    "for key,values in dict1.items():\n",
    "    dict3.update({key:values})\n",
    "for key,values in dict2.items():\n",
    "    dict3.update({key:values})\n",
    "\n",
    "dict3"
   ]
  },
  {
   "cell_type": "code",
   "execution_count": 19,
   "id": "cfe08a17-c7fb-412c-af88-b0003bf31d16",
   "metadata": {},
   "outputs": [
    {
     "name": "stdin",
     "output_type": "stream",
     "text": [
      "Enter Key:  name\n"
     ]
    },
    {
     "name": "stdout",
     "output_type": "stream",
     "text": [
      "Key Exist\n"
     ]
    }
   ],
   "source": [
    "# Q-50 Write a Python script to check if a given key already exists in a dictionary.\n",
    "n = input(\"Enter Key: \")\n",
    "mydict = {1 : \"abc\",2 : \"xyz\" ,\"name\" : \"Alice\",\"gender\" : \"male\"}\n",
    "li = list(mydict.keys())\n",
    "counter = 0\n",
    "for i in li:\n",
    "    if n == i:\n",
    "        print(\"Key Exist\")\n",
    "        counter = 1\n",
    "\n",
    "if counter == 0:\n",
    "    print(\"Key not Exist\")"
   ]
  },
  {
   "cell_type": "code",
   "execution_count": 16,
   "id": "0ae14b61-1e91-4b4a-b3d7-122aabbd247b",
   "metadata": {},
   "outputs": [
    {
     "data": {
      "text/plain": [
       "'Jane'"
      ]
     },
     "execution_count": 16,
     "metadata": {},
     "output_type": "execute_result"
    }
   ],
   "source": [
    "#Q-51 How Do You Traverse Through a Dictionary Object in Python? \n",
    "student = {\n",
    "    101:{'name':\"Jane\",'grade':\"B\"},\n",
    "    102:{'name':\"Bob\",'grade':\"A\"}\n",
    "}\n",
    "student[101][\"name\"]"
   ]
  },
  {
   "cell_type": "code",
   "execution_count": 19,
   "id": "91477b5e-8a1e-4160-b573-e1d2e91349b4",
   "metadata": {},
   "outputs": [
    {
     "name": "stdout",
     "output_type": "stream",
     "text": [
      "Key is Present\n"
     ]
    }
   ],
   "source": [
    "#Q-52 How Do You Check the Presence of a Key in A Dictionary?\n",
    "mydict = {1 : \"abc\",2 : \"xyz\" ,\"name\" : \"Alice\",\"gender\" : \"male\"}\n",
    "l1 = list(mydict.keys())\n",
    "n = \"name\"\n",
    "if n in l1:\n",
    "    print(\"Key is Present\")\n",
    "else:\n",
    "    print(\"Key not found\")"
   ]
  },
  {
   "cell_type": "code",
   "execution_count": 20,
   "id": "3e4fd8e7-01a3-4fdb-ac37-060c17940c54",
   "metadata": {},
   "outputs": [
    {
     "name": "stdout",
     "output_type": "stream",
     "text": [
      "1\n",
      "2\n"
     ]
    }
   ],
   "source": [
    "# Q-53 Write a Python script to print a dictionary where the keys are numbers between 1 and 15. \n",
    "mydict = {1 : \"abc\",2 : \"xyz\" ,\"name\" : \"Alice\",\"gender\" : \"male\"}\n",
    "l1 = list(mydict.keys())\n",
    "l2 = [1,2,3,4,5,6,7,8,9,10,11,12,13,14,15]\n",
    "for i in l1:\n",
    "    if i in l2:\n",
    "        print(i)"
   ]
  },
  {
   "cell_type": "code",
   "execution_count": 22,
   "id": "05260ad4-8770-436a-8f42-7a1d16e88687",
   "metadata": {},
   "outputs": [
    {
     "name": "stdout",
     "output_type": "stream",
     "text": [
      "Multiple Keys Exist\n"
     ]
    }
   ],
   "source": [
    "# Q-54 Write a Python program to check multiple keys exists in a dictionary \n",
    "mydict = {1 : \"abc\",2 : \"xyz\" ,\"name\" : \"Alice\",\"gender\" : \"male\"}\n",
    "if (len(mydict) > 1):\n",
    "    print(\"Multiple Keys Exist\")"
   ]
  },
  {
   "cell_type": "code",
   "execution_count": 23,
   "id": "9ab5b4dd-ecc8-4186-8295-387fc662b621",
   "metadata": {},
   "outputs": [
    {
     "name": "stdout",
     "output_type": "stream",
     "text": [
      "{1: 'Dharmik', 2: 'vyas', 3: 'Mehul', 4: 'Bob'}\n"
     ]
    }
   ],
   "source": [
    "#Q-55 Write a Python script to merge two Python dictionaries\n",
    "a = {1:\"Dharmik\",2:\"vyas\"}\n",
    "b = {3:\"Mehul\",4:\"Bob\"}\n",
    "a.update(b)\n",
    "print(a)"
   ]
  },
  {
   "cell_type": "code",
   "execution_count": 26,
   "id": "655ad7b7-3aad-4ac5-9c26-e45cb5afcc21",
   "metadata": {},
   "outputs": [
    {
     "data": {
      "text/plain": [
       "{'a': 400, 'b': 400, 'c': 400, 'd': 300}"
      ]
     },
     "execution_count": 26,
     "metadata": {},
     "output_type": "execute_result"
    }
   ],
   "source": [
    "#Q-56 Write a Python program to map two lists into a dictionary\n",
    "l1 = [400,400,400,300]\n",
    "l2 = [\"a\",\"b\",\"c\",\"d\"]\n",
    "\n",
    "mydict = dict(zip(l2,l1))\n",
    "\n",
    "mydict"
   ]
  },
  {
   "cell_type": "code",
   "execution_count": 42,
   "id": "a19b91e5-c5fd-4706-add0-1ac955609204",
   "metadata": {},
   "outputs": [
    {
     "name": "stdout",
     "output_type": "stream",
     "text": [
      "Highest Value:  1200\n",
      "2nd Highest Value:  1000\n",
      "3rd Highest Value:  600\n"
     ]
    }
   ],
   "source": [
    "# Q-57 Write a Python program to find the highest 3 values in a dictionary\n",
    "mydict = {\"a\":1000,\"b\":500,\"c\":600,\"d\":1200,\"e\":100}\n",
    "l1 = list(mydict.values())\n",
    "l1.sort(reverse = True)\n",
    "print(\"Highest Value: \",l1[0])\n",
    "print(\"2nd Highest Value: \",l1[1])\n",
    "print(\"3rd Highest Value: \",l1[2])"
   ]
  },
  {
   "cell_type": "code",
   "execution_count": 2,
   "id": "96d875f2-80ac-4f2d-8c2b-6730d4a97400",
   "metadata": {},
   "outputs": [
    {
     "data": {
      "text/plain": [
       "{'item1': 1150, 'item2': 300}"
      ]
     },
     "execution_count": 2,
     "metadata": {},
     "output_type": "execute_result"
    }
   ],
   "source": [
    "#Q-58 )Write a Python program to combine values in python list of dictionaries.\n",
    "# Sample data: [{'item': 'item1', 'amount': 400}, {'item': 'item2', 'amount':\n",
    "# 300}, o {'item': 'item1', 'amount': 750}] \n",
    "# Expected Output:\n",
    "# • Counter ({'item1': 1150, 'item2': 300})\n",
    "\n",
    "l1 = [{\"item\":\"item1\",\"amount\":400},{\"item\":\"item2\",\"amount\":300},{\"item\":\"item1\",\"amount\":750}]\n",
    "mydict = {}\n",
    "l2 = []\n",
    "for i in l1:\n",
    "    # print(i)\n",
    "    for j in i.items():\n",
    "        # print(j)\n",
    "        l2.append(j[1])\n",
    "        \n",
    "for i in range(len(l2)):\n",
    "    if i%2 == 0:\n",
    "        if l2[i] in mydict:\n",
    "            mydict[l2[i]] += l2[i+1]  \n",
    "        else:\n",
    "            mydict[l2[i]] = l2[i+1]\n",
    "\n",
    "mydict"
   ]
  },
  {
   "cell_type": "code",
   "execution_count": 22,
   "id": "1735b372-5fac-464a-b070-61d3a71895f2",
   "metadata": {},
   "outputs": [
    {
     "data": {
      "text/plain": [
       "{'w': 1, '3': 1, 'r': 2, 'e': 2, 's': 1, 'o': 1, 'u': 1, 'c': 1}"
      ]
     },
     "execution_count": 22,
     "metadata": {},
     "output_type": "execute_result"
    }
   ],
   "source": [
    "# Q-59 Write a Python program to create a dictionary from a string. Note: Track the count of the letters from the string.\n",
    "# Q-60 string:'w3resource' Expected output: \n",
    "# {'3': 1,’s’: 1, 'r': 2, 'u': 1, 'w': 1, 'c': 1, 'e': 2, 'o': 1}\n",
    "\n",
    "a = \"w3resource\"\n",
    "mydict = {}\n",
    "for i in a:\n",
    "    if i not in mydict.keys():\n",
    "        mydict[i] = 1\n",
    "    else:\n",
    "        mydict[i] += 1\n",
    "\n",
    "mydict"
   ]
  },
  {
   "cell_type": "code",
   "execution_count": 2,
   "id": "b39499d9-2316-4a98-92be-52e8f13d9efa",
   "metadata": {},
   "outputs": [
    {
     "name": "stdout",
     "output_type": "stream",
     "text": [
      "120\n"
     ]
    }
   ],
   "source": [
    "#Q-61  Write a Python function to calculate the factorial of a number (a nonnegative integer)\n",
    "def factorial(n):\n",
    "    p = 1\n",
    "    for i in range(1,n+1):\n",
    "        p *= i;\n",
    "    print(p)\n",
    "\n",
    "factorial(5)"
   ]
  },
  {
   "cell_type": "code",
   "execution_count": 4,
   "id": "3c4afc88-d9a3-4607-9d16-0710b5c2f068",
   "metadata": {},
   "outputs": [
    {
     "name": "stdout",
     "output_type": "stream",
     "text": [
      "11 in a range \n"
     ]
    }
   ],
   "source": [
    "#Q-62  Write a Python function to check whether a number is in a given range\n",
    "def checkrange(n):\n",
    "    if n < 20:\n",
    "        print(f\"{n} in a range \")\n",
    "    else:\n",
    "        print(f\"{n} not in range\")\n",
    "\n",
    "checkrange(11)"
   ]
  },
  {
   "cell_type": "code",
   "execution_count": 11,
   "id": "8b1f9803-0c30-4e7a-9fb6-f8d4670c2b1c",
   "metadata": {},
   "outputs": [
    {
     "name": "stdout",
     "output_type": "stream",
     "text": [
      "28 is a perfect number\n"
     ]
    }
   ],
   "source": [
    "#Q-63 Write a Python function to check whether a number is perfect or not. \n",
    "def perfectno(n):\n",
    "    counter = 0\n",
    "    for i in range(1,n):\n",
    "        if n%i == 0:\n",
    "            counter += i\n",
    "    if n == counter:\n",
    "        print(f\"{n} is a perfect number\")\n",
    "    else:\n",
    "        print(f\"{n} is not aperfect number\")\n",
    "\n",
    "perfectno(28)"
   ]
  },
  {
   "cell_type": "code",
   "execution_count": 16,
   "id": "535fdbe0-beec-4583-ac6a-124b4364bdaf",
   "metadata": {},
   "outputs": [
    {
     "name": "stdout",
     "output_type": "stream",
     "text": [
      "racecar is a palindrome\n"
     ]
    }
   ],
   "source": [
    "#Q-64 Write a Python function that checks whether a passed string is palindrome or not \n",
    "def palindrome(a):\n",
    "    p = a[::-1]\n",
    "    if a == p:\n",
    "        print(f\"{a} is a palindrome\")\n",
    "    else:\n",
    "        print(f\"{a} is not a palindrome\")\n",
    "\n",
    "palindrome(\"racecar\")"
   ]
  },
  {
   "cell_type": "code",
   "execution_count": 22,
   "id": "508840df-cfaa-4b34-a2c1-09af09e931df",
   "metadata": {},
   "outputs": [
    {
     "name": "stdout",
     "output_type": "stream",
     "text": [
      "1\n",
      "9\n"
     ]
    }
   ],
   "source": [
    "#Q-66 How can you pick a random item from a list or tuple?\n",
    "import random\n",
    "l1 = [1,2,3,4,5]\n",
    "t1 = (6,7,8,9)\n",
    "a = random.choice(l1)\n",
    "print(a)\n",
    "b = random.choice(t1)\n",
    "print(b)"
   ]
  },
  {
   "cell_type": "code",
   "execution_count": 24,
   "id": "91cbcbe9-eea8-42ed-96b5-641ed5b33a87",
   "metadata": {},
   "outputs": [
    {
     "name": "stdout",
     "output_type": "stream",
     "text": [
      "4\n"
     ]
    }
   ],
   "source": [
    "#Q-67 How can you pick a random item from a range? \n",
    "import random\n",
    "a = random.randint(1,10)\n",
    "print(a)"
   ]
  },
  {
   "cell_type": "code",
   "execution_count": 30,
   "id": "28cdc823-62dd-4ea4-9eeb-07098211c0ef",
   "metadata": {},
   "outputs": [
    {
     "name": "stdout",
     "output_type": "stream",
     "text": [
      "0.6986210084657476\n"
     ]
    }
   ],
   "source": [
    "#Q-68 How can you get a random number in python?\n",
    "import random\n",
    "\n",
    "a = random.random()\n",
    "print(a)"
   ]
  },
  {
   "cell_type": "code",
   "execution_count": 31,
   "id": "8236c71c-20ac-4c1c-8091-b5ab0cd04b56",
   "metadata": {},
   "outputs": [
    {
     "name": "stdout",
     "output_type": "stream",
     "text": [
      "10\n"
     ]
    }
   ],
   "source": [
    "#Q-69 How will you set the starting value in generating random numbers? \n",
    "import random\n",
    "a = random.randint(1,10)\n",
    "print(a)"
   ]
  },
  {
   "cell_type": "code",
   "execution_count": 23,
   "id": "1b913eb3-aba9-4ea1-a9e9-b9c084a58eef",
   "metadata": {},
   "outputs": [
    {
     "data": {
      "text/plain": [
       "[3, 1, 'b', 'a', 2, 4]"
      ]
     },
     "execution_count": 23,
     "metadata": {},
     "output_type": "execute_result"
    }
   ],
   "source": [
    "# Q-70 How will you randomize the items of a list in place? \n",
    "import random\n",
    "l1 = [1,2,3,4,\"a\",\"b\"]\n",
    "random.shuffle(l1)\n",
    "l1"
   ]
  },
  {
   "cell_type": "code",
   "execution_count": 35,
   "id": "d6d585d4-2ba9-43c6-9dde-ced845333372",
   "metadata": {},
   "outputs": [
    {
     "name": "stdout",
     "output_type": "stream",
     "text": [
      "Hello,\n",
      "My name is dharmik vyas,\n",
      "I am from Ahmedabad.\n"
     ]
    }
   ],
   "source": [
    "# Q-72 Write a Python program to read an entire text file. \n",
    "with open(\"Text1.txt\",\"r\") as f:\n",
    "    print(f.read())"
   ]
  },
  {
   "cell_type": "code",
   "execution_count": 37,
   "id": "37e492e6-41e2-4d38-80f3-5fdc4ae519a9",
   "metadata": {},
   "outputs": [],
   "source": [
    "# Q-73 Write a Python program to append text to a file and display the text.\n",
    "with open(\"Text1.txt\",\"a\") as f:\n",
    "    f.write(\"\\ni completed my bachlors degree in computer Engineering\")"
   ]
  },
  {
   "cell_type": "code",
   "execution_count": 24,
   "id": "5c2957e2-968e-4078-a221-02cc11d0eea9",
   "metadata": {},
   "outputs": [
    {
     "name": "stdin",
     "output_type": "stream",
     "text": [
      "Enter number 2\n"
     ]
    },
    {
     "name": "stdout",
     "output_type": "stream",
     "text": [
      "Hello ,\n",
      "\n",
      "My name is dharmik vyas ,\n",
      "\n"
     ]
    }
   ],
   "source": [
    "# Q-74  Write a Python program to read first n lines of a file.\n",
    "n = int(input(\"Enter number\"))\n",
    "with open(\"Text1.txt\",\"r\") as f:\n",
    "    for i in range(n):\n",
    "        print(f.readline())"
   ]
  },
  {
   "cell_type": "code",
   "execution_count": 28,
   "id": "ee110592-4b57-4f4f-b6d3-846380a1385b",
   "metadata": {},
   "outputs": [
    {
     "name": "stdout",
     "output_type": "stream",
     "text": [
      "i completed my bachlors degree in computer Engineering\n",
      "I am from Ahmedabad .\n"
     ]
    }
   ],
   "source": [
    "#Q-75 Write a Python program to read last n lines of a file. \n",
    "n = 2\n",
    "with open(\"Text1.txt\",\"r\") as f:\n",
    "    content = f.read().splitlines()\n",
    "\n",
    "for i in range(len(content)-1,n-1,-1):\n",
    "    print(content[i])"
   ]
  },
  {
   "cell_type": "code",
   "execution_count": 3,
   "id": "bf532632-24e3-4bd0-ba9a-656db0586575",
   "metadata": {},
   "outputs": [
    {
     "name": "stdout",
     "output_type": "stream",
     "text": [
      "['Hello,\\n', 'My name is dharmik vyas,\\n', 'I am from Ahmedabad.\\n', 'i completed my bachlors degree in computer Engineering']\n"
     ]
    }
   ],
   "source": [
    "#Q-76  Write a Python program to read a file line by line and store it into a list\n",
    "with open(\"Text1.txt\",\"r\") as f:\n",
    "    content = f.readlines()\n",
    "    print(content)"
   ]
  },
  {
   "cell_type": "code",
   "execution_count": 31,
   "id": "6bae8457-ceb8-4970-a78e-ce082f9dffbe",
   "metadata": {},
   "outputs": [
    {
     "name": "stdout",
     "output_type": "stream",
     "text": [
      "Hello ,\n",
      "My name is dharmik vyas ,\n",
      "I am from Ahmedabad . i completed my bachlors degree in computer Engineering\n"
     ]
    }
   ],
   "source": [
    "#Q-77 Write a Python program to read a file line by line store it into a variable. \n",
    "with open(\"Text1.txt\",\"r\") as f:\n",
    "    content = f.read().splitlines()\n",
    "\n",
    "a,b,*rest = content\n",
    "\n",
    "print(a)\n",
    "print(b)\n",
    "print(*rest)"
   ]
  },
  {
   "cell_type": "code",
   "execution_count": 34,
   "id": "c8570b3e-cec3-4aaf-92f8-f64e05ee9688",
   "metadata": {},
   "outputs": [
    {
     "name": "stdout",
     "output_type": "stream",
     "text": [
      "11\n",
      "Engineering\n"
     ]
    }
   ],
   "source": [
    "#Q-78 Write a python program to find the longest words.\n",
    "with open(\"Text1.txt\",\"r\") as f:\n",
    "    content = f.read().splitlines()\n",
    "l = 0\n",
    "c = 0\n",
    "p = \"\"\n",
    "q = \"\"\n",
    "for i in content:\n",
    "    for j in i:\n",
    "        if j == \" \":\n",
    "            c = 0\n",
    "            p = \"\"\n",
    "        else:\n",
    "            p = p + j\n",
    "            c += 1\n",
    "            if c > l:\n",
    "                l = c\n",
    "                q = p\n",
    "                \n",
    "print(l)\n",
    "print(q)"
   ]
  },
  {
   "cell_type": "code",
   "execution_count": 28,
   "id": "04151a05-8e59-4b54-b798-75d752529988",
   "metadata": {},
   "outputs": [
    {
     "name": "stdout",
     "output_type": "stream",
     "text": [
      "Number of lines in file = 4\n"
     ]
    }
   ],
   "source": [
    "#Q-79 Write a Python program to count the number of lines in a text file. \n",
    "with open(\"Text1.txt\",\"r\") as f:\n",
    "    content = f.readlines()\n",
    "\n",
    "n=len(content)\n",
    "print(f\"Number of lines in file = {n}\")"
   ]
  },
  {
   "cell_type": "code",
   "execution_count": 36,
   "id": "5cee4882-4a94-4aed-b216-1d7447de3f45",
   "metadata": {},
   "outputs": [
    {
     "data": {
      "text/plain": [
       "{'Hello': 1,\n",
       " ',My': 1,\n",
       " 'name': 1,\n",
       " 'is': 1,\n",
       " 'dharmik': 1,\n",
       " 'vyas': 1,\n",
       " ',I': 1,\n",
       " 'am': 1,\n",
       " 'from': 1,\n",
       " 'Ahmedabad': 1,\n",
       " '.i': 1,\n",
       " 'completed': 1,\n",
       " 'my': 1,\n",
       " 'bachlors': 1,\n",
       " 'degree': 1,\n",
       " 'in': 1,\n",
       " 'computer': 1}"
      ]
     },
     "execution_count": 36,
     "metadata": {},
     "output_type": "execute_result"
    }
   ],
   "source": [
    "#Q-80 Write a Python program to count the frequency of words in a file.\n",
    "with open(\"Text1.txt\",\"r\") as f:\n",
    "    content = f.read().splitlines()\n",
    "l = \"\"\n",
    "\n",
    "mydict = {}\n",
    "for i in content:\n",
    "    for j in i:\n",
    "        if j == \" \":\n",
    "            if l in mydict.keys():\n",
    "                mydict[l] += 1\n",
    "                l = \"\"\n",
    "            else:\n",
    "                mydict[l] = 1\n",
    "                l = \"\"\n",
    "        else:\n",
    "            l = l+j\n",
    "mydict"
   ]
  },
  {
   "cell_type": "code",
   "execution_count": 2,
   "id": "db242d21-7574-4eef-ab4c-977139332fe2",
   "metadata": {},
   "outputs": [],
   "source": [
    "#Q-81 Write a Python program to write a list to a file. \n",
    "l = [1,2,3,4,5,6,7]\n",
    "with open(\"Text2.txt\",\"w\") as f:\n",
    "    for i in l:\n",
    "        f.write(f\"{i},\")"
   ]
  },
  {
   "cell_type": "code",
   "execution_count": 6,
   "id": "95dd82bc-7b98-4a26-a357-e314db41694c",
   "metadata": {},
   "outputs": [],
   "source": [
    "#Q-82 Write a Python program to copy the contents of a file to another file.\n",
    "with open(\"Text1.txt\",\"r\") as f:\n",
    "    content = f.readlines()\n",
    "\n",
    "with open(\"Text2.txt\",\"w\") as file:\n",
    "    for i in content:\n",
    "        file.write(f\"{i}\")"
   ]
  },
  {
   "cell_type": "code",
   "execution_count": 38,
   "id": "5445939f-1db7-451c-8553-1fa545f483cd",
   "metadata": {},
   "outputs": [
    {
     "name": "stdout",
     "output_type": "stream",
     "text": [
      "Not Equal\n"
     ]
    }
   ],
   "source": [
    "#Q-88  What happens when „1‟== 1 is executed?\n",
    "if \"1\" == 1:\n",
    "    print(\"Equal\")\n",
    "else:\n",
    "    print(\"Not Equal\")"
   ]
  },
  {
   "cell_type": "code",
   "execution_count": 1,
   "id": "7968b401-f239-4cb1-b4aa-d4c7201290fa",
   "metadata": {},
   "outputs": [
    {
     "name": "stdout",
     "output_type": "stream",
     "text": [
      "Hello\n",
      "No any Error / Exception\n",
      "Always Printed\n"
     ]
    }
   ],
   "source": [
    "#Q-89 How Do You Handle Exceptions with Try/Except/Finally in Python?  Explain with coding snippets. \n",
    "try:\n",
    "    # risky error\n",
    "    print(\"Hello\")\n",
    "except Exception:\n",
    "    #handle eror\n",
    "    print(\"if Exception Occur\")\n",
    "else:\n",
    "    #executes if no exception occur\n",
    "    print(\"No any Error / Exception\")\n",
    "finally:\n",
    "    #execute no matter what\n",
    "    print(\"Always Printed\")"
   ]
  },
  {
   "cell_type": "code",
   "execution_count": 3,
   "id": "ae127b45-c5f7-440c-8910-16c5ac639a5c",
   "metadata": {},
   "outputs": [
    {
     "name": "stdin",
     "output_type": "stream",
     "text": [
      "Enter Number: 6\n"
     ]
    },
    {
     "name": "stdout",
     "output_type": "stream",
     "text": [
      "Even numbers not allowed\n"
     ]
    }
   ],
   "source": [
    "#Q-90  Write python program that user to enter only odd numbers, else will raise an exception.\n",
    "class EvenNumberError(Exception):\n",
    "    pass\n",
    "\n",
    "def check_number(n):\n",
    "    if n%2 == 0:\n",
    "        raise EvenNumberError(\"Even numbers not allowed\")\n",
    "    return n\n",
    "\n",
    "try :\n",
    "    n = int(input(\"Enter Number:\"))\n",
    "    num = check_number(n)\n",
    "\n",
    "except EvenNumberError as e:\n",
    "    print(e)"
   ]
  }
 ],
 "metadata": {
  "kernelspec": {
   "display_name": "Python [conda env:base] *",
   "language": "python",
   "name": "conda-base-py"
  },
  "language_info": {
   "codemirror_mode": {
    "name": "ipython",
    "version": 3
   },
   "file_extension": ".py",
   "mimetype": "text/x-python",
   "name": "python",
   "nbconvert_exporter": "python",
   "pygments_lexer": "ipython3",
   "version": "3.12.7"
  }
 },
 "nbformat": 4,
 "nbformat_minor": 5
}
